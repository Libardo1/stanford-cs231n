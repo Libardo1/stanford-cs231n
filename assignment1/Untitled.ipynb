{
 "cells": [
  {
   "cell_type": "code",
   "execution_count": 6,
   "metadata": {
    "collapsed": true
   },
   "outputs": [],
   "source": [
    "import numpy as np\n",
    "import matplotlib.pyplot as plt\n",
    "\n",
    "%matplotlib inline\n",
    "plt.rcParams['figure.figsize'] = (10.0, 8.0) # set default size of plots\n",
    "plt.rcParams['image.interpolation'] = 'nearest'\n",
    "plt.rcParams['image.cmap'] = 'gray'"
   ]
  },
  {
   "cell_type": "code",
   "execution_count": 12,
   "metadata": {
    "collapsed": false
   },
   "outputs": [],
   "source": [
    "vals = np.random.randn(10000)"
   ]
  },
  {
   "cell_type": "code",
   "execution_count": 13,
   "metadata": {
    "collapsed": false
   },
   "outputs": [
    {
     "data": {
      "text/plain": [
       "(array([   2.,    0.,    0.,    1.,    0.,    3.,    1.,    5.,    8.,\n",
       "          21.,   17.,   41.,   44.,   83.,  122.,  154.,  189.,  247.,\n",
       "         348.,  390.,  453.,  546.,  640.,  677.,  650.,  690.,  651.,\n",
       "         634.,  564.,  576.,  495.,  401.,  331.,  287.,  204.,  168.,\n",
       "         122.,   89.,   49.,   30.,   24.,   17.,   10.,    8.,    3.,\n",
       "           3.,    1.,    0.,    0.,    1.]),\n",
       " array([-4.38740186, -4.21513551, -4.04286915, -3.87060279, -3.69833644,\n",
       "        -3.52607008, -3.35380373, -3.18153737, -3.00927102, -2.83700466,\n",
       "        -2.66473831, -2.49247195, -2.32020559, -2.14793924, -1.97567288,\n",
       "        -1.80340653, -1.63114017, -1.45887382, -1.28660746, -1.11434111,\n",
       "        -0.94207475, -0.7698084 , -0.59754204, -0.42527568, -0.25300933,\n",
       "        -0.08074297,  0.09152338,  0.26378974,  0.43605609,  0.60832245,\n",
       "         0.7805888 ,  0.95285516,  1.12512151,  1.29738787,  1.46965423,\n",
       "         1.64192058,  1.81418694,  1.98645329,  2.15871965,  2.330986  ,\n",
       "         2.50325236,  2.67551871,  2.84778507,  3.02005143,  3.19231778,\n",
       "         3.36458414,  3.53685049,  3.70911685,  3.8813832 ,  4.05364956,\n",
       "         4.22591591]),\n",
       " <a list of 50 Patch objects>)"
      ]
     },
     "execution_count": 13,
     "metadata": {},
     "output_type": "execute_result"
    },
    {
     "data": {
      "image/png": "[encoded data removed]",
      "text/plain": [
       "<matplotlib.figure.Figure at 0x7f62513edc50>"
      ]
     },
     "metadata": {},
     "output_type": "display_data"
    }
   ],
   "source": [
    "plt.hist(vals, bins=50)"
   ]
  },
  {
   "cell_type": "code",
   "execution_count": null,
   "metadata": {
    "collapsed": true
   },
   "outputs": [],
   "source": [
    "plt"
   ]
  }
 ],
 "metadata": {
  "kernelspec": {
   "display_name": "Python 2",
   "language": "python",
   "name": "python2"
  },
  "language_info": {
   "codemirror_mode": {
    "name": "ipython",
    "version": 2
   },
   "file_extension": ".py",
   "mimetype": "text/x-python",
   "name": "python",
   "nbconvert_exporter": "python",
   "pygments_lexer": "ipython2",
   "version": "2.7.11"
  }
 },
 "nbformat": 4,
 "nbformat_minor": 0
}
